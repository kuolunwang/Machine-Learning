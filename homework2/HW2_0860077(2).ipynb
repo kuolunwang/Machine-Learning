{
 "cells": [
  {
   "cell_type": "code",
   "execution_count": 7,
   "metadata": {},
   "outputs": [
    {
     "name": "stdout",
     "output_type": "stream",
     "text": [
      "2.1.0\n"
     ]
    }
   ],
   "source": [
    "# library\n",
    "import pandas as pd\n",
    "import numpy as np\n",
    "import matplotlib.pyplot as plt\n",
    "from sklearn import svm\n",
    "from collections import Counter\n",
    "from sklearn.neighbors import KernelDensity\n",
    "import tensorflow.compat.v1 as tf\n",
    "tf.disable_v2_behavior()\n",
    "\n",
    "print(tf.__version__)"
   ]
  },
  {
   "cell_type": "code",
   "execution_count": 8,
   "metadata": {},
   "outputs": [],
   "source": [
    "# loading data\n",
    "def loadMNIST():\n",
    "    from tensorflow.examples.tutorials.mnist import input_data\n",
    "    mnist = input_data.read_data_sets(\"MNIST_data/\")\n",
    "    return mnist"
   ]
  },
  {
   "cell_type": "code",
   "execution_count": 9,
   "metadata": {},
   "outputs": [],
   "source": [
    "# KNN model\n",
    "def KNN(train_image, train_label, test_image, test_label, k):\n",
    "\n",
    "    # declare required input, output and computation\n",
    "    X = tf.placeholder(dtype=tf.float32, shape=[None, 784])\n",
    "    Y = tf.placeholder(dtype=tf.float32, shape=[784])\n",
    "    \n",
    "    # calculate distance and find the nearest point\n",
    "    distance = tf.reduce_sum(tf.sqrt(tf.pow(X-Y, 2)), axis=1)\n",
    "    sorted_distance = tf.sort(distance,direction = \"ASCENDING\")\n",
    "    top_k = tf.slice(sorted_distance, begin=[0], size=[k])\n",
    "    \n",
    "    # initial\n",
    "    init_op = [tf.global_variables_initializer()]\n",
    "    prediction = []\n",
    "    \n",
    "    # run knn algorithm\n",
    "    with tf.Session() as sess:\n",
    "        sess.run(init_op)\n",
    "        \n",
    "        for i in range(len(test_image)):\n",
    "            dist, min_k_dist = sess.run([distance, top_k], feed_dict={\n",
    "                X: train_image,\n",
    "                Y: test_image[i]\n",
    "            })\n",
    "            idx = [dist.tolist().index(i) for i in min_k_dist]\n",
    "            counter = Counter(train_label[idx])\n",
    "            prediction.append({\n",
    "                'prediction': counter.most_common(1)[0][0], \n",
    "                'label': test_label[i]})\n",
    "    df = pd.DataFrame(prediction)\n",
    "    accuracy = (len(df) - len(df[df.iloc[:, 0] != df.iloc[:, 1]])) / len(df)\n",
    "    return accuracy"
   ]
  },
  {
   "cell_type": "code",
   "execution_count": 10,
   "metadata": {},
   "outputs": [],
   "source": [
    "def KDE(train_image, train_label, test_image, test_label):\n",
    "    \n",
    "    # classify different digit\n",
    "    digit = [[] for i in range(10)]\n",
    "    for i in range(len(train_label)):\n",
    "        digit[train_label[i]].append(train_image[i])\n",
    "    \n",
    "    # calculate kde\n",
    "    kde = [[] for i in range(10)]\n",
    "    for i in range(10):\n",
    "        kde[i] = KernelDensity(bandwidth=1.0, kernel='gaussian').fit(digit[i])\n",
    "    \n",
    "    # using kde to classify testing data\n",
    "    result = []\n",
    "    for i in range(len(test_label)):\n",
    "        value = []\n",
    "        for j in range(10):\n",
    "            value.append(kde[j].score_samples([test_image[i]]))\n",
    "        result.append(np.argmax(value))\n",
    "    accuracy = np.sum(np.equal(result, test_label[:len(test_label)])) / len(test_label)\n",
    "    return accuracy"
   ]
  },
  {
   "cell_type": "code",
   "execution_count": 11,
   "metadata": {},
   "outputs": [],
   "source": [
    "def SVM(train_image, train_label, test_image, test_label):\n",
    "\n",
    "    # constract svm model\n",
    "    predictor = svm.SVC(gamma='scale', C=1.0, decision_function_shape='ovr', kernel='rbf')\n",
    "    # training\n",
    "    predictor.fit(train_image[:len(train_image)], train_label[:len(train_image)])\n",
    "    # predict\n",
    "    result = predictor.predict(test_image[:len(test_image)])\n",
    "    # calculate performance\n",
    "    accuracy = np.sum(np.equal(result, test_label[:len(test_label)])) / len(test_label)\n",
    "    return accuracy"
   ]
  },
  {
   "cell_type": "code",
   "execution_count": 13,
   "metadata": {},
   "outputs": [
    {
     "name": "stdout",
     "output_type": "stream",
     "text": [
      "Extracting MNIST_data/train-images-idx3-ubyte.gz\n",
      "Extracting MNIST_data/train-labels-idx1-ubyte.gz\n",
      "Extracting MNIST_data/t10k-images-idx3-ubyte.gz\n",
      "Extracting MNIST_data/t10k-labels-idx1-ubyte.gz\n",
      "K = 1 , accuracy = 0.9406 \n",
      "\n",
      "K = 3 , accuracy = 0.9426 \n",
      "\n",
      "K = 5 , accuracy = 0.9446 \n",
      "\n",
      "K = 7 , accuracy = 0.9434 \n",
      "\n",
      "K = 9 , accuracy = 0.9404 \n",
      "\n",
      "svm accuracy = 0.9686\n",
      "\n",
      "kde accuracy = 0.9492\n",
      "\n"
     ]
    }
   ],
   "source": [
    "if __name__ == \"__main__\":\n",
    "    \n",
    "    # load data\n",
    "    mnist = loadMNIST()\n",
    "    \n",
    "    # split train and test data\n",
    "    train_image, train_label = mnist.train.next_batch(10000)\n",
    "    test_image, test_label = mnist.test.next_batch(5000)\n",
    "    \n",
    "    # knn with different k\n",
    "    for i in range(1,10,2):\n",
    "        accuracy = KNN(train_image, train_label, test_image, test_label, k = i)\n",
    "        print(\"K = {0} , accuracy = {1} \\n\".format(i, accuracy))\n",
    "    \n",
    "    # svm\n",
    "    accuracy = SVM(train_image, train_label, test_image, test_label)\n",
    "    print(\"svm accuracy = {0}\\n\".format(accuracy))\n",
    "    \n",
    "    # kde\n",
    "    accuracy = KDE(train_image, train_label, test_image, test_label)\n",
    "    print(\"kde accuracy = {0}\\n\".format(accuracy))"
   ]
  },
  {
   "cell_type": "code",
   "execution_count": null,
   "metadata": {},
   "outputs": [],
   "source": []
  },
  {
   "cell_type": "code",
   "execution_count": null,
   "metadata": {},
   "outputs": [],
   "source": []
  }
 ],
 "metadata": {
  "kernelspec": {
   "display_name": "Python [conda env:machine_learning]",
   "language": "python",
   "name": "conda-env-machine_learning-py"
  },
  "language_info": {
   "codemirror_mode": {
    "name": "ipython",
    "version": 3
   },
   "file_extension": ".py",
   "mimetype": "text/x-python",
   "name": "python",
   "nbconvert_exporter": "python",
   "pygments_lexer": "ipython3",
   "version": "3.7.7"
  }
 },
 "nbformat": 4,
 "nbformat_minor": 4
}
